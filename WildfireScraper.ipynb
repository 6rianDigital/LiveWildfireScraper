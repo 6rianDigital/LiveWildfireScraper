{
 "cells": [
  {
   "cell_type": "markdown",
   "metadata": {},
   "source": [
    "# Wildfire Data Scraping & Mapping for Geospatial Analysis"
   ]
  },
  {
   "cell_type": "markdown",
   "metadata": {},
   "source": [
    "### Import Modules, authenticate, intialiaze and prep\n"
   ]
  },
  {
   "cell_type": "code",
   "execution_count": null,
   "metadata": {
    "scrolled": true
   },
   "outputs": [],
   "source": [
    "from datetime import datetime, timedelta\n",
    "import ee\n",
    "import geopandas as gpd\n",
    "from IPython.display import display\n",
    "import matplotlib.pyplot as plt\n",
    "import os\n",
    "import pandas as pd\n",
    "from shapely.geometry import Point\n",
    "import warnings\n",
    "warnings.filterwarnings(\"ignore\", category=DeprecationWarning)"
   ]
  },
  {
   "cell_type": "code",
   "execution_count": null,
   "metadata": {},
   "outputs": [],
   "source": [
    "# Authenticate & Initialize Earth Engine\n",
    "#ee.Authenticate()\n",
    "ee.Initialize(project='your-project-name') "
   ]
  },
  {
   "cell_type": "code",
   "execution_count": null,
   "metadata": {},
   "outputs": [],
   "source": [
    "# Display plots directly below cell\n",
    "%matplotlib inline"
   ]
  },
  {
   "cell_type": "code",
   "execution_count": null,
   "metadata": {},
   "outputs": [],
   "source": [
    "# Allow full column width display\n",
    "pd.set_option('display.max_colwidth', None)"
   ]
  },
  {
   "cell_type": "code",
   "execution_count": null,
   "metadata": {},
   "outputs": [],
   "source": [
    "# Check working directory\n",
    "print(os.getcwd())"
   ]
  },
  {
   "cell_type": "code",
   "execution_count": null,
   "metadata": {},
   "outputs": [],
   "source": [
    "# FIRMS API KEY\n",
    "MAP_KEY = \"your-FIRMS-mapkey-here\""
   ]
  },
  {
   "cell_type": "code",
   "execution_count": null,
   "metadata": {
    "scrolled": true
   },
   "outputs": [],
   "source": [
    "# Check number of available transactions\n",
    "url_mapkey = 'https://firms.modaps.eosdis.nasa.gov/mapserver/mapkey_status/?MAP_KEY=' + MAP_KEY\n",
    "\n",
    "try:\n",
    "  df_mapkey = pd.read_json(url_mapkey,  typ='series')\n",
    "  display(df_mapkey)\n",
    "except:\n",
    "  # possible error, wrong MAP_KEY value, check for extra quotes, missing letters\n",
    "  print (\"There is an issue with the query. \\nTry in your browser: %s\" % url_mapkey)"
   ]
  },
  {
   "cell_type": "code",
   "execution_count": null,
   "metadata": {},
   "outputs": [],
   "source": [
    "# Create function to check transaction usage\n",
    "\n",
    "def get_transaction_count() :\n",
    "  count = 0\n",
    "  try:\n",
    "    df = pd.read_json(url_mapkey,  typ='series')\n",
    "    count = df['current_transactions']\n",
    "  except:\n",
    "    print (\"Error in our call.\")\n",
    "  return count\n",
    "\n",
    "tcount = get_transaction_count()\n",
    "print ('Our current transaction count is %i' % tcount)"
   ]
  },
  {
   "cell_type": "markdown",
   "metadata": {},
   "source": [
    "### Data fetching and querying (Accessing FIRMS API and GEE)"
   ]
  },
  {
   "cell_type": "code",
   "execution_count": null,
   "metadata": {},
   "outputs": [],
   "source": [
    "# Query data availability, instead of 'all' you can specify individual sensor, ex:MODIS_NRT\n",
    "da_url = 'https://firms.modaps.eosdis.nasa.gov/api/data_availability/csv/' + MAP_KEY + '/all'\n",
    "df_sensors = pd.read_csv(da_url)\n",
    "display(df_sensors)"
   ]
  },
  {
   "cell_type": "code",
   "execution_count": null,
   "metadata": {},
   "outputs": [],
   "source": [
    "# Choose sensor(s) and store to variable(s), area and date range set at end of url or by methods in following code chunks\n",
    "# Here we have set the dat range to the past 7 days, and left the area to world which we will subset later with more precise methods\n",
    "url_modis_NRT = f\"https://firms.modaps.eosdis.nasa.gov/api/area/csv/{MAP_KEY}/MODIS_NRT/world/7/\""
   ]
  },
  {
   "cell_type": "code",
   "execution_count": null,
   "metadata": {
    "scrolled": true
   },
   "outputs": [],
   "source": [
    "# Set the url to a dataframe for analysis\n",
    "df_modis = pd.read_csv(url_modis_NRT)\n",
    "display(df_modis)"
   ]
  },
  {
   "cell_type": "code",
   "execution_count": null,
   "metadata": {},
   "outputs": [],
   "source": [
    "# Convert the MODIS data into a GeoDataFrame (using 'longitude' and 'latitude' columns)\n",
    "geometry = [Point(lon, lat) for lon, lat in zip(df_modis['longitude'], df_modis['latitude'])]\n",
    "df_modis_gdf = gpd.GeoDataFrame(df_modis, geometry=geometry)\n",
    "\n",
    "# Assign CRS to df_modis\n",
    "df_modis_gdf = df_modis_gdf.set_crs(\"EPSG:4326\", allow_override=True)"
   ]
  },
  {
   "cell_type": "markdown",
   "metadata": {},
   "source": [
    "#### GEE"
   ]
  },
  {
   "cell_type": "code",
   "execution_count": null,
   "metadata": {},
   "outputs": [],
   "source": [
    "# Retrieve countries Feature Collection from google earth engine to get proper clipping boundary\n",
    "countries = ee.FeatureCollection(\"USDOS/LSIB_SIMPLE/2017\")\n",
    "canada = countries.filter(ee.Filter.eq('country_na', 'Canada'))\n",
    "\n",
    "# Fetch the geometry of Canada as a GeoJSON (alternative approach to the bounding box) and convert to GeoDataFrame\n",
    "canada_geojson = canada.getInfo()\n",
    "canada_gdf = gpd.GeoDataFrame.from_features(canada_geojson['features'])\n",
    "\n",
    "# Assign the CRS to canada_gdf (WGS 84 - EPSG:4326)\n",
    "canada_gdf = canada_gdf.set_crs(\"EPSG:4326\", allow_override=True)"
   ]
  },
  {
   "cell_type": "code",
   "execution_count": null,
   "metadata": {},
   "outputs": [],
   "source": [
    "# Clip the MODIS GeoDataFrame to the boundary of Canada using the Canada geometry\n",
    "df_modis_clipped = gpd.clip(df_modis_gdf, canada_gdf)"
   ]
  },
  {
   "cell_type": "code",
   "execution_count": null,
   "metadata": {},
   "outputs": [],
   "source": [
    "# Create total fire detections variable\n",
    "total_fires = len(df_modis_clipped)"
   ]
  },
  {
   "cell_type": "code",
   "execution_count": null,
   "metadata": {},
   "outputs": [],
   "source": [
    "# Assign date variables\n",
    "today_date = datetime.now()\n",
    "seven_days_ago = today_date - timedelta(days=6)\n",
    "\n",
    "# Format the dates\n",
    "formatted_date_today = today_date.strftime('%B, %d, %Y')\n",
    "formatted_date_since = seven_days_ago.strftime('%B %d, %Y')"
   ]
  },
  {
   "cell_type": "code",
   "execution_count": null,
   "metadata": {
    "scrolled": false
   },
   "outputs": [],
   "source": [
    "# Define the extent for Canada\n",
    "extent = [-150, 40, -49, 79]  \n",
    "\n",
    "# Dissolve to remove internal lines\n",
    "canada_outline = canada_gdf.dissolve()\n",
    "\n",
    "# Create the base map and plot Canada boundary\n",
    "ax = canada_outline.plot(figsize=(12, 10), color=\"lightgrey\", edgecolor=\"blue\", linewidth=1)\n",
    "\n",
    "# Set map extent\n",
    "ax.set_xlim([extent[0], extent[2]])\n",
    "ax.set_ylim([extent[1], extent[3]])\n",
    "\n",
    "# Plot clipped wildfire points\n",
    "df_modis_clipped.plot(ax=ax, color=\"red\", markersize=10, label=\"MODIS Wildfires\")\n",
    "\n",
    "# Add title, labels and legend\n",
    "ax.set(title=f'A Total of {total_fires} Canada Wildfire Detections from {formatted_date_since} from {formatted_date_today}')\n",
    "ax.set_xlabel('Longitude')\n",
    "ax.set_ylabel('Latitude')\n",
    "ax.legend()\n",
    "\n",
    "plt.show()"
   ]
  },
  {
   "cell_type": "markdown",
   "metadata": {},
   "source": [
    "### Custom Day/Night Detection Query"
   ]
  },
  {
   "cell_type": "code",
   "execution_count": null,
   "metadata": {},
   "outputs": [],
   "source": [
    "# Subset data to values with confidence >= 50 and fire radiative power (frp) >= 5, for both day and night detections\n",
    "df_custom_day = df_modis_clipped[(df_modis_clipped['confidence'] >= 50) & (df_modis_clipped['frp'] >= 5) & (df_modis_clipped['daynight'] == 'D')]\n",
    "print ('Day time detection with confidence >=50 and frp >= 5 contains %i records' %  len(df_custom_day))\n",
    "\n",
    "df_custom_night = df_modis_clipped[(df_modis_clipped['confidence'] >= 50) & (df_modis_clipped['frp'] >= 5) & (df_modis_clipped['daynight'] == 'N')]\n",
    "print ('Night time detections with confidence >= 50 and frp >= 5 contains %i records' %  len(df_custom_night))\n"
   ]
  },
  {
   "cell_type": "code",
   "execution_count": null,
   "metadata": {},
   "outputs": [],
   "source": [
    "# Create one figure and axis for all plots\n",
    "fig, ax = plt.subplots(figsize=(12, 10))\n",
    "\n",
    "# Create the basemap and plot Canada boundary\n",
    "canada_outline.plot(ax=ax, color=\"lightgrey\", edgecolor='blue', linewidth=1, label='Canada Boundary')\n",
    "\n",
    "# Set map extent\n",
    "ax.set_xlim([extent[0], extent[2]])\n",
    "ax.set_ylim([extent[1], extent[3]])\n",
    "\n",
    "# Plot detections\n",
    "df_custom_day.plot(ax=ax, color='red', markersize=10, label='Daytime Detections')\n",
    "df_custom_night.plot(ax=ax, color='blue', markersize=10, label='Nighttime Detections')\n",
    "\n",
    "# Add title, labels, legend\n",
    "ax.set_title(f'MODIS Detections by Day/Night \\nCanada Wildfires Detections from {formatted_date_since} to {formatted_date_today}')\n",
    "ax.set_xlabel('Longitude')\n",
    "ax.set_ylabel('Latitude')\n",
    "ax.legend()\n",
    "\n",
    "plt.show()"
   ]
  },
  {
   "cell_type": "markdown",
   "metadata": {},
   "source": [
    "### Adding datetime column in dataset"
   ]
  },
  {
   "cell_type": "code",
   "execution_count": null,
   "metadata": {
    "scrolled": true
   },
   "outputs": [],
   "source": [
    "# Create datetime column in dataset combining acq_date and acq_time\n",
    "df_modis_clipped['acq_datetime'] = pd.to_datetime(df_modis_clipped['acq_date'] + ' ' + df_modis_clipped['acq_time'].astype(str).str.zfill(4), format='%Y-%m-%d %H%M')\n",
    "\n",
    "print ('Canada sample datetime info:')\n",
    "df_modis_clipped['acq_datetime'].sample(5)"
   ]
  },
  {
   "cell_type": "code",
   "execution_count": null,
   "metadata": {},
   "outputs": [],
   "source": [
    "df_modis_clipped.head()"
   ]
  },
  {
   "cell_type": "code",
   "execution_count": null,
   "metadata": {
    "scrolled": false
   },
   "outputs": [],
   "source": [
    "# Display min/max date time range for df_modis_clipped\n",
    "print ('Canada datetime value range: %s to %s' % (str(df_modis_clipped['acq_datetime'].min()), str(df_modis_clipped['acq_datetime'].max())))"
   ]
  },
  {
   "cell_type": "markdown",
   "metadata": {},
   "source": [
    "### Analyze Time Since Detection"
   ]
  },
  {
   "cell_type": "code",
   "execution_count": null,
   "metadata": {},
   "outputs": [],
   "source": [
    "# Import timezone library for Canada\n",
    "import pytz\n",
    "\n",
    "print('Canada TimeZones')\n",
    "for timeZone in pytz.country_timezones['CA']:\n",
    "    print(timeZone)"
   ]
  },
  {
   "cell_type": "code",
   "execution_count": null,
   "metadata": {
    "scrolled": true
   },
   "outputs": [],
   "source": [
    "# Compare min/max date-time range converted using 3 different Canada time zones\n",
    "# Original GMT\n",
    "# Halifax (GMT-3:00)\n",
    "# Toronto (GMT-4:00)\n",
    "# Vancouver (GMT-7:00)\n",
    "\n",
    "print('Canada GMT timezone datetime value range: %s to %s' % (str(df_modis_clipped['acq_datetime'].min()), str(df_modis_clipped['acq_datetime'].max())))\n",
    "print('Canada Halifax timezone datetime value range: %s to %s' % (str(df_modis_clipped['acq_datetime'].dt.tz_localize('GMT').dt.tz_convert('America/Halifax').min()), str(df_modis_clipped['acq_datetime'].dt.tz_localize('GMT').dt.tz_convert('America/Halifax').max())))\n",
    "print('Canada Toronto timezone datetime value range: %s to %s' % (str(df_modis_clipped['acq_datetime'].dt.tz_localize('GMT').dt.tz_convert('America/Toronto').min()), str(df_modis_clipped['acq_datetime'].dt.tz_localize('GMT').dt.tz_convert('America/Toronto').max())))\n",
    "print('Canada Vancouver timezone datetime value range: %s to %s' % (str(df_modis_clipped['acq_datetime'].dt.tz_localize('GMT').dt.tz_convert('America/Vancouver').min()), str(df_modis_clipped['acq_datetime'].dt.tz_localize('GMT').dt.tz_convert('America/Vancouver').max())))\n"
   ]
  },
  {
   "cell_type": "code",
   "execution_count": null,
   "metadata": {},
   "outputs": [],
   "source": [
    "# Assign detection time max to variable\n",
    "dt_max = df_modis_clipped['acq_datetime'].max()"
   ]
  },
  {
   "cell_type": "code",
   "execution_count": null,
   "metadata": {},
   "outputs": [],
   "source": [
    "# Create subsets for colour classes\n",
    "\n",
    "# <= 1 hour\n",
    "df_modis_clipped1 = df_modis_clipped[df_modis_clipped['acq_datetime'] >= (dt_max - pd.Timedelta(hours=1))]\n",
    "\n",
    "# > 1 hour and <= 4 hours\n",
    "df_modis_clipped2 = df_modis_clipped[(df_modis_clipped['acq_datetime'] >= (dt_max - pd.Timedelta(hours=4))) & (df_modis_clipped['acq_datetime'] < (dt_max - pd.Timedelta(hours=1)))]\n",
    "\n",
    "# > 4 hours and <= 12 hours\n",
    "df_modis_clipped3 = df_modis_clipped[(df_modis_clipped['acq_datetime'] >= (dt_max - pd.Timedelta(hours=12))) & (df_modis_clipped['acq_datetime'] < (dt_max - pd.Timedelta(hours=4)))]\n",
    "\n",
    "# > 12 hours\n",
    "df_modis_clipped4 = df_modis_clipped[df_modis_clipped['acq_datetime'] < (dt_max - pd.Timedelta(hours=12))]\n",
    "\n",
    "\n",
    "print ('Counts per subset: %i, %i, %i, %i from total of %i' % (df_modis_clipped1.count()[0],df_modis_clipped2.count()[0],df_modis_clipped3.count()[0],df_modis_clipped4.count()[0], df_modis_clipped.count()[0]))"
   ]
  },
  {
   "cell_type": "code",
   "execution_count": null,
   "metadata": {},
   "outputs": [],
   "source": [
    "# Create the basemap and plot Canada Boundary\n",
    "ax = canada_outline.plot(figsize=(12, 10), color=\"lightgrey\", edgecolor=\"blue\", linewidth=1)\n",
    "\n",
    "# Set map extent\n",
    "ax.set_xlim([extent[0], extent[2]])\n",
    "ax.set_ylim([extent[1], extent[3]])\n",
    "\n",
    "# Color code each set; also we are drawing in opposite order, so the older detections are drawn first so the newer ones are on top\n",
    "df_modis_clipped4.plot(ax=ax, color=\"yellow\", markersize=10, label='More Than 12 Hours Ago')\n",
    "df_modis_clipped3.plot(ax=ax, color=\"orange\", markersize=10, label='4-12 Hours Ago')\n",
    "df_modis_clipped2.plot(ax=ax, color=\"red\", markersize=10, label='1-4 Hours Ago')\n",
    "df_modis_clipped1.plot(ax=ax, color=\"darkred\", markersize=10, label='1 Hour Ago')\n",
    "\n",
    "# Add title, labels, legend\n",
    "ax.set(title=f'Time Since Detection\\nCanada Wildfires from {formatted_date_since} to {formatted_date_today}')\n",
    "ax.set_xlabel('Longitude')\n",
    "ax.set_ylabel('Latitude')\n",
    "ax.legend(title=\"Time Since Detection\", loc='upper right')\n",
    "\n",
    "plt.show()"
   ]
  }
 ],
 "metadata": {
  "kernelspec": {
   "display_name": "env-LiveWildfireScraping",
   "language": "python",
   "name": "python3"
  },
  "language_info": {
   "codemirror_mode": {
    "name": "ipython",
    "version": 3
   },
   "file_extension": ".py",
   "mimetype": "text/x-python",
   "name": "python",
   "nbconvert_exporter": "python",
   "pygments_lexer": "ipython3",
   "version": "3.13.1"
  }
 },
 "nbformat": 4,
 "nbformat_minor": 2
}
